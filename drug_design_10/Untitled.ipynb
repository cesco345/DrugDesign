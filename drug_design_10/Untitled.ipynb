{
 "cells": [
  {
   "cell_type": "code",
   "execution_count": 5,
   "id": "6286fb2a-c212-4cd9-8785-4522ffa1cc36",
   "metadata": {},
   "outputs": [],
   "source": [
    "# Cell 3: Set up environment variables\n",
    "import os\n",
    "\n",
    "os.environ['ALPHAFOLD_DATA_DIR'] = os.path.expanduser('~/alphafold/data')\n",
    "os.environ['MAX_TEMPLATE_DATE'] = '2022-12-06'"
   ]
  },
  {
   "cell_type": "code",
   "execution_count": 6,
   "id": "8056e257-adbd-4128-8d3c-c381a968382f",
   "metadata": {},
   "outputs": [
    {
     "name": "stderr",
     "output_type": "stream",
     "text": [
      "UsageError: %%writefile is a cell magic, but the cell body is empty.\n"
     ]
    }
   ],
   "source": [
    "%%writefile patch_mmcif_parsing.py"
   ]
  },
  {
   "cell_type": "code",
   "execution_count": 10,
   "id": "81b5b5d0-ae0c-459d-aacf-adf8675d13c2",
   "metadata": {},
   "outputs": [
    {
     "ename": "SyntaxError",
     "evalue": "invalid syntax (3242132271.py, line 2)",
     "output_type": "error",
     "traceback": [
      "\u001b[0;36m  Cell \u001b[0;32mIn[10], line 2\u001b[0;36m\u001b[0m\n\u001b[0;31m    python run_alphafold.py \\\u001b[0m\n\u001b[0m           ^\u001b[0m\n\u001b[0;31mSyntaxError\u001b[0m\u001b[0;31m:\u001b[0m invalid syntax\n"
     ]
    }
   ],
   "source": [
    "# Cell 4: Run AlphaFold prediction for test protein\n",
    "python run_alphafold.py \\\n",
    "  --fasta_paths=../test_protein.fasta \\\n",
    "  --output_dir=test_output \\\n",
    "  --max_template_date=2022-12-06 \\\n",
    "  --model_preset=monomer \\\n",
    "  --db_preset=reduced_dbs \\\n",
    "  --use_gpu_relax=false"
   ]
  },
  {
   "cell_type": "code",
   "execution_count": null,
   "id": "d82e07f1-e459-4c57-8373-c81006da121c",
   "metadata": {},
   "outputs": [],
   "source": []
  }
 ],
 "metadata": {
  "kernelspec": {
   "display_name": "Python 3 (ipykernel)",
   "language": "python",
   "name": "python3"
  },
  "language_info": {
   "codemirror_mode": {
    "name": "ipython",
    "version": 3
   },
   "file_extension": ".py",
   "mimetype": "text/x-python",
   "name": "python",
   "nbconvert_exporter": "python",
   "pygments_lexer": "ipython3",
   "version": "3.9.20"
  }
 },
 "nbformat": 4,
 "nbformat_minor": 5
}
