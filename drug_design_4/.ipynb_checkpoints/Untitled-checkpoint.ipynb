{
 "cells": [
  {
   "cell_type": "code",
   "execution_count": null,
   "id": "4f94110c-e1ec-477e-b6df-64b8975e9570",
   "metadata": {},
   "outputs": [],
   "source": []
  }
 ],
 "metadata": {
  "kernelspec": {
   "display_name": "",
   "name": ""
  },
  "language_info": {
   "name": ""
  }
 },
 "nbformat": 4,
 "nbformat_minor": 5
}
