{
 "cells": [
  {
   "cell_type": "code",
   "execution_count": null,
   "id": "d2c1098a-d806-408b-ab48-f27a2dadece7",
   "metadata": {},
   "outputs": [],
   "source": []
  }
 ],
 "metadata": {
  "kernelspec": {
   "display_name": "",
   "name": ""
  },
  "language_info": {
   "name": ""
  }
 },
 "nbformat": 4,
 "nbformat_minor": 5
}
