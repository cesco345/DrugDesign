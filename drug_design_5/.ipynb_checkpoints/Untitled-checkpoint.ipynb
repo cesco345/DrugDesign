{
 "cells": [
  {
   "cell_type": "code",
   "execution_count": null,
   "id": "773ddb21-7834-425d-af4d-16bba5245181",
   "metadata": {},
   "outputs": [],
   "source": []
  }
 ],
 "metadata": {
  "kernelspec": {
   "display_name": "",
   "name": ""
  },
  "language_info": {
   "name": ""
  }
 },
 "nbformat": 4,
 "nbformat_minor": 5
}
