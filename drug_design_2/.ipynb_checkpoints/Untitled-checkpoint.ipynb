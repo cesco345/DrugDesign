{
 "cells": [
  {
   "cell_type": "code",
   "execution_count": null,
   "id": "fc2529e6-9d1f-4d4a-bb1d-9c50bc63e456",
   "metadata": {},
   "outputs": [],
   "source": []
  }
 ],
 "metadata": {
  "kernelspec": {
   "display_name": "",
   "name": ""
  },
  "language_info": {
   "name": ""
  }
 },
 "nbformat": 4,
 "nbformat_minor": 5
}
